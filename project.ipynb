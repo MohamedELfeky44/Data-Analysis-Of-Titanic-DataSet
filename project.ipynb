{
 "cells": [
  {
   "cell_type": "markdown",
   "id": "06677f31",
   "metadata": {},
   "source": [
    "# Project"
   ]
  },
  {
   "cell_type": "markdown",
   "id": "7289203c",
   "metadata": {},
   "source": [
    "The sinking of the Titanic is one of the most infamous shipwrecks in history. On April 15, 1912, during her maiden voyage, the widely considered “unsinkable” RMS Titanic sank after colliding with an iceberg. Unfortunately, there weren’t enough lifeboats for everyone onboard, resulting in the death of 1502 out of 2224 passengers and crew.\n",
    "\n",
    "While there was some element of luck involved in surviving, it seems some groups of people were more likely to survive than others.\n",
    "\n",
    "In this project, we ask you to build a predictive model that answers the question: “what sorts of people were more likely to survive?” using passenger data (ie name, age, gender, socio-economic class, etc). In this competition, you’ll gain access to two similar datasets that include passenger information like name, age, gender, socio-economic class, etc.\n",
    "\n"
   ]
  },
  {
   "cell_type": "markdown",
   "id": "392877f2",
   "metadata": {},
   "source": [
    "# Tasks"
   ]
  },
  {
   "cell_type": "markdown",
   "id": "118f0b43",
   "metadata": {},
   "source": [
    "Inspecting Data (this process is where you familiarize yourself with the data)\n",
    "\n",
    "Inspect the data\n",
    "    -Check for null/missing values\n",
    "    -View statistical details using describe()\n",
    "    -What can you infer from the statistical measures? Like possible outliers?\n",
    "\n",
    "Data Analysis and Visualization (this process is where you explore the data, clean it and infer some insights from it)\n",
    "\n",
    "    -Delete columns irrelevant or not useful for prediction\n",
    "    -Get the average rate of survival by Gender, Pclass\n",
    "    -Plotting the number of people who survived and who didn't survive\n",
    "    -Plot the precenrage of survival by gender\n",
    "    -Handle null/missing values\n",
    "    -Plot the survival rate by Age\n",
    "    -Handle categorical text values and turn them into numerical\n",
    "    -Plot the correlation between features and label\n",
    "    \n",
    "What do you infer from the data? What can you conclude from it? Who is most likely to survive, based on the data?\n",
    "\n",
    "Model Building and Evaluation (this process is where you start building models and choose a model based on accuracy metrics)\n",
    "\n",
    "    -Choose a model suitable for classification\n",
    "    -Fit the training data\n",
    "    -Use cross-validation to get the average accuracy for model selection or accuracy benchmark\n",
    "    -Find out how accurate the model performs on test data using some metrics\n",
    "    -Try other classification algorithms and compare the accuracy metrics (and/or F1 score)\n",
    "    -Choose the model with the best accuracy metric"
   ]
  },
  {
   "cell_type": "code",
   "execution_count": 28,
   "id": "514fedc8",
   "metadata": {},
   "outputs": [],
   "source": [
    "#IMPORT important packages\n",
    "import pandas as pd\n",
    "import numpy as np\n",
    "import matplotlib.pyplot as plt\n",
    "import seaborn as sns\n",
    "from sklearn.preprocessing import OrdinalEncoder\n",
    "%matplotlib inline  \n",
    "from sklearn.compose import make_column_selector as selector\n",
    "from sklearn.preprocessing import KBinsDiscretizer"
   ]
  },
  {
   "cell_type": "code",
   "execution_count": 204,
   "id": "bf3223ed",
   "metadata": {},
   "outputs": [
    {
     "data": {
      "text/html": [
       "<div>\n",
       "<style scoped>\n",
       "    .dataframe tbody tr th:only-of-type {\n",
       "        vertical-align: middle;\n",
       "    }\n",
       "\n",
       "    .dataframe tbody tr th {\n",
       "        vertical-align: top;\n",
       "    }\n",
       "\n",
       "    .dataframe thead th {\n",
       "        text-align: right;\n",
       "    }\n",
       "</style>\n",
       "<table border=\"1\" class=\"dataframe\">\n",
       "  <thead>\n",
       "    <tr style=\"text-align: right;\">\n",
       "      <th></th>\n",
       "      <th>pclass</th>\n",
       "      <th>survived</th>\n",
       "      <th>name</th>\n",
       "      <th>sex</th>\n",
       "      <th>age</th>\n",
       "      <th>sibsp</th>\n",
       "      <th>parch</th>\n",
       "      <th>ticket</th>\n",
       "      <th>fare</th>\n",
       "      <th>cabin</th>\n",
       "      <th>embarked</th>\n",
       "      <th>boat</th>\n",
       "      <th>body</th>\n",
       "      <th>home.dest</th>\n",
       "    </tr>\n",
       "  </thead>\n",
       "  <tbody>\n",
       "    <tr>\n",
       "      <th>0</th>\n",
       "      <td>1</td>\n",
       "      <td>1</td>\n",
       "      <td>Allen, Miss. Elisabeth Walton</td>\n",
       "      <td>female</td>\n",
       "      <td>29.0</td>\n",
       "      <td>0</td>\n",
       "      <td>0</td>\n",
       "      <td>24160</td>\n",
       "      <td>211.3375</td>\n",
       "      <td>B5</td>\n",
       "      <td>S</td>\n",
       "      <td>2</td>\n",
       "      <td>NaN</td>\n",
       "      <td>St Louis, MO</td>\n",
       "    </tr>\n",
       "    <tr>\n",
       "      <th>1</th>\n",
       "      <td>1</td>\n",
       "      <td>1</td>\n",
       "      <td>Allison, Master. Hudson Trevor</td>\n",
       "      <td>male</td>\n",
       "      <td>NaN</td>\n",
       "      <td>1</td>\n",
       "      <td>2</td>\n",
       "      <td>113781</td>\n",
       "      <td>151.5500</td>\n",
       "      <td>C22 C26</td>\n",
       "      <td>S</td>\n",
       "      <td>11</td>\n",
       "      <td>NaN</td>\n",
       "      <td>Montreal, PQ / Chesterville, ON</td>\n",
       "    </tr>\n",
       "  </tbody>\n",
       "</table>\n",
       "</div>"
      ],
      "text/plain": [
       "   pclass  survived                            name     sex   age  sibsp  \\\n",
       "0       1         1   Allen, Miss. Elisabeth Walton  female  29.0      0   \n",
       "1       1         1  Allison, Master. Hudson Trevor    male   NaN      1   \n",
       "\n",
       "   parch  ticket      fare    cabin embarked boat  body  \\\n",
       "0      0   24160  211.3375       B5        S    2   NaN   \n",
       "1      2  113781  151.5500  C22 C26        S   11   NaN   \n",
       "\n",
       "                         home.dest  \n",
       "0                     St Louis, MO  \n",
       "1  Montreal, PQ / Chesterville, ON  "
      ]
     },
     "execution_count": 204,
     "metadata": {},
     "output_type": "execute_result"
    }
   ],
   "source": [
    "#read file\n",
    "df = pd.read_csv(\"full.csv\")\n",
    "df.head(2)"
   ]
  },
  {
   "cell_type": "code",
   "execution_count": 205,
   "id": "14020f35",
   "metadata": {},
   "outputs": [
    {
     "data": {
      "text/html": [
       "<div>\n",
       "<style scoped>\n",
       "    .dataframe tbody tr th:only-of-type {\n",
       "        vertical-align: middle;\n",
       "    }\n",
       "\n",
       "    .dataframe tbody tr th {\n",
       "        vertical-align: top;\n",
       "    }\n",
       "\n",
       "    .dataframe thead th {\n",
       "        text-align: right;\n",
       "    }\n",
       "</style>\n",
       "<table border=\"1\" class=\"dataframe\">\n",
       "  <thead>\n",
       "    <tr style=\"text-align: right;\">\n",
       "      <th></th>\n",
       "      <th>pclass</th>\n",
       "      <th>survived</th>\n",
       "      <th>age</th>\n",
       "      <th>sibsp</th>\n",
       "      <th>parch</th>\n",
       "      <th>fare</th>\n",
       "      <th>body</th>\n",
       "    </tr>\n",
       "  </thead>\n",
       "  <tbody>\n",
       "    <tr>\n",
       "      <th>count</th>\n",
       "      <td>1309.000000</td>\n",
       "      <td>1309.000000</td>\n",
       "      <td>1032.000000</td>\n",
       "      <td>1309.000000</td>\n",
       "      <td>1309.000000</td>\n",
       "      <td>1308.000000</td>\n",
       "      <td>121.000000</td>\n",
       "    </tr>\n",
       "    <tr>\n",
       "      <th>mean</th>\n",
       "      <td>2.294882</td>\n",
       "      <td>0.381971</td>\n",
       "      <td>30.198643</td>\n",
       "      <td>0.498854</td>\n",
       "      <td>0.385027</td>\n",
       "      <td>33.295479</td>\n",
       "      <td>160.809917</td>\n",
       "    </tr>\n",
       "    <tr>\n",
       "      <th>std</th>\n",
       "      <td>0.837836</td>\n",
       "      <td>0.486055</td>\n",
       "      <td>14.142694</td>\n",
       "      <td>1.041658</td>\n",
       "      <td>0.865560</td>\n",
       "      <td>51.758668</td>\n",
       "      <td>97.696922</td>\n",
       "    </tr>\n",
       "    <tr>\n",
       "      <th>min</th>\n",
       "      <td>1.000000</td>\n",
       "      <td>0.000000</td>\n",
       "      <td>1.000000</td>\n",
       "      <td>0.000000</td>\n",
       "      <td>0.000000</td>\n",
       "      <td>0.000000</td>\n",
       "      <td>1.000000</td>\n",
       "    </tr>\n",
       "    <tr>\n",
       "      <th>25%</th>\n",
       "      <td>2.000000</td>\n",
       "      <td>0.000000</td>\n",
       "      <td>21.000000</td>\n",
       "      <td>0.000000</td>\n",
       "      <td>0.000000</td>\n",
       "      <td>7.895800</td>\n",
       "      <td>72.000000</td>\n",
       "    </tr>\n",
       "    <tr>\n",
       "      <th>50%</th>\n",
       "      <td>3.000000</td>\n",
       "      <td>0.000000</td>\n",
       "      <td>28.000000</td>\n",
       "      <td>0.000000</td>\n",
       "      <td>0.000000</td>\n",
       "      <td>14.454200</td>\n",
       "      <td>155.000000</td>\n",
       "    </tr>\n",
       "    <tr>\n",
       "      <th>75%</th>\n",
       "      <td>3.000000</td>\n",
       "      <td>1.000000</td>\n",
       "      <td>39.000000</td>\n",
       "      <td>1.000000</td>\n",
       "      <td>0.000000</td>\n",
       "      <td>31.275000</td>\n",
       "      <td>256.000000</td>\n",
       "    </tr>\n",
       "    <tr>\n",
       "      <th>max</th>\n",
       "      <td>3.000000</td>\n",
       "      <td>1.000000</td>\n",
       "      <td>80.000000</td>\n",
       "      <td>8.000000</td>\n",
       "      <td>9.000000</td>\n",
       "      <td>512.329200</td>\n",
       "      <td>328.000000</td>\n",
       "    </tr>\n",
       "  </tbody>\n",
       "</table>\n",
       "</div>"
      ],
      "text/plain": [
       "            pclass     survived          age        sibsp        parch  \\\n",
       "count  1309.000000  1309.000000  1032.000000  1309.000000  1309.000000   \n",
       "mean      2.294882     0.381971    30.198643     0.498854     0.385027   \n",
       "std       0.837836     0.486055    14.142694     1.041658     0.865560   \n",
       "min       1.000000     0.000000     1.000000     0.000000     0.000000   \n",
       "25%       2.000000     0.000000    21.000000     0.000000     0.000000   \n",
       "50%       3.000000     0.000000    28.000000     0.000000     0.000000   \n",
       "75%       3.000000     1.000000    39.000000     1.000000     0.000000   \n",
       "max       3.000000     1.000000    80.000000     8.000000     9.000000   \n",
       "\n",
       "              fare        body  \n",
       "count  1308.000000  121.000000  \n",
       "mean     33.295479  160.809917  \n",
       "std      51.758668   97.696922  \n",
       "min       0.000000    1.000000  \n",
       "25%       7.895800   72.000000  \n",
       "50%      14.454200  155.000000  \n",
       "75%      31.275000  256.000000  \n",
       "max     512.329200  328.000000  "
      ]
     },
     "execution_count": 205,
     "metadata": {},
     "output_type": "execute_result"
    }
   ],
   "source": [
    "df.describe()"
   ]
  },
  {
   "cell_type": "code",
   "execution_count": 206,
   "id": "3b6ecbae",
   "metadata": {},
   "outputs": [
    {
     "name": "stdout",
     "output_type": "stream",
     "text": [
      "<class 'pandas.core.frame.DataFrame'>\n",
      "RangeIndex: 1309 entries, 0 to 1308\n",
      "Data columns (total 14 columns):\n",
      " #   Column     Non-Null Count  Dtype  \n",
      "---  ------     --------------  -----  \n",
      " 0   pclass     1309 non-null   int64  \n",
      " 1   survived   1309 non-null   int64  \n",
      " 2   name       1309 non-null   object \n",
      " 3   sex        1309 non-null   object \n",
      " 4   age        1032 non-null   float64\n",
      " 5   sibsp      1309 non-null   int64  \n",
      " 6   parch      1309 non-null   int64  \n",
      " 7   ticket     1309 non-null   object \n",
      " 8   fare       1308 non-null   float64\n",
      " 9   cabin      295 non-null    object \n",
      " 10  embarked   1307 non-null   object \n",
      " 11  boat       486 non-null    object \n",
      " 12  body       121 non-null    float64\n",
      " 13  home.dest  745 non-null    object \n",
      "dtypes: float64(3), int64(4), object(7)\n",
      "memory usage: 143.3+ KB\n"
     ]
    }
   ],
   "source": [
    "#check columns types \n",
    "df.info()"
   ]
  },
  {
   "cell_type": "markdown",
   "id": "988836f5",
   "metadata": {},
   "source": [
    "we have 6 columns dtypes as intgers  and 11 columns as object (string) which will need transformation later "
   ]
  },
  {
   "cell_type": "code",
   "execution_count": 207,
   "id": "b49b0fe5",
   "metadata": {},
   "outputs": [
    {
     "data": {
      "text/plain": [
       "pclass          0\n",
       "survived        0\n",
       "name            0\n",
       "sex             0\n",
       "age           277\n",
       "sibsp           0\n",
       "parch           0\n",
       "ticket          0\n",
       "fare            1\n",
       "cabin        1014\n",
       "embarked        2\n",
       "boat          823\n",
       "body         1188\n",
       "home.dest     564\n",
       "dtype: int64"
      ]
     },
     "execution_count": 207,
     "metadata": {},
     "output_type": "execute_result"
    }
   ],
   "source": [
    "#check missing values \n",
    "df.isnull().sum()"
   ]
  },
  {
   "cell_type": "markdown",
   "id": "a3392bea",
   "metadata": {},
   "source": [
    "There are some columns with huge number of null values and the columns which have values as strings could not be replaced so it should be droped \n",
    "\n",
    "Other columns do not have any information or they will not influance the result, so they should be dropped too."
   ]
  },
  {
   "cell_type": "code",
   "execution_count": 208,
   "id": "5ad11002",
   "metadata": {},
   "outputs": [
    {
     "data": {
      "text/plain": [
       "(1309, 7)"
      ]
     },
     "execution_count": 208,
     "metadata": {},
     "output_type": "execute_result"
    }
   ],
   "source": [
    "columns_drop = [\"cabin\",\"body\",\"name\",\"ticket\",\"fare\",\n",
    "                \"home.dest\",\"boat\"]\n",
    "df.drop(columns_drop,axis=1,inplace=True)\n",
    "df.shape"
   ]
  },
  {
   "cell_type": "code",
   "execution_count": 209,
   "id": "77dc8168",
   "metadata": {},
   "outputs": [
    {
     "data": {
      "text/html": [
       "<div>\n",
       "<style scoped>\n",
       "    .dataframe tbody tr th:only-of-type {\n",
       "        vertical-align: middle;\n",
       "    }\n",
       "\n",
       "    .dataframe tbody tr th {\n",
       "        vertical-align: top;\n",
       "    }\n",
       "\n",
       "    .dataframe thead th {\n",
       "        text-align: right;\n",
       "    }\n",
       "</style>\n",
       "<table border=\"1\" class=\"dataframe\">\n",
       "  <thead>\n",
       "    <tr style=\"text-align: right;\">\n",
       "      <th></th>\n",
       "      <th>pclass</th>\n",
       "      <th>survived</th>\n",
       "      <th>sex</th>\n",
       "      <th>age</th>\n",
       "      <th>sibsp</th>\n",
       "      <th>parch</th>\n",
       "      <th>embarked</th>\n",
       "    </tr>\n",
       "  </thead>\n",
       "  <tbody>\n",
       "    <tr>\n",
       "      <th>0</th>\n",
       "      <td>1</td>\n",
       "      <td>1</td>\n",
       "      <td>female</td>\n",
       "      <td>29.0</td>\n",
       "      <td>0</td>\n",
       "      <td>0</td>\n",
       "      <td>S</td>\n",
       "    </tr>\n",
       "    <tr>\n",
       "      <th>1</th>\n",
       "      <td>1</td>\n",
       "      <td>1</td>\n",
       "      <td>male</td>\n",
       "      <td>NaN</td>\n",
       "      <td>1</td>\n",
       "      <td>2</td>\n",
       "      <td>S</td>\n",
       "    </tr>\n",
       "  </tbody>\n",
       "</table>\n",
       "</div>"
      ],
      "text/plain": [
       "   pclass  survived     sex   age  sibsp  parch embarked\n",
       "0       1         1  female  29.0      0      0        S\n",
       "1       1         1    male   NaN      1      2        S"
      ]
     },
     "execution_count": 209,
     "metadata": {},
     "output_type": "execute_result"
    }
   ],
   "source": [
    "df.head(2)"
   ]
  },
  {
   "cell_type": "markdown",
   "id": "912ea071",
   "metadata": {},
   "source": [
    "# Analyzing Data"
   ]
  },
  {
   "cell_type": "code",
   "execution_count": 210,
   "id": "f333e67f",
   "metadata": {},
   "outputs": [
    {
     "data": {
      "image/png": "[encoded data removed]",
      "text/plain": [
       "<Figure size 432x432 with 1 Axes>"
      ]
     },
     "metadata": {
      "needs_background": "light"
     },
     "output_type": "display_data"
    }
   ],
   "source": [
    "df.survived.hist(figsize=(6,6));"
   ]
  },
  {
   "cell_type": "markdown",
   "id": "87103942",
   "metadata": {},
   "source": [
    " From this we conclude that the number of survived people is less than the number of non-survived people "
   ]
  },
  {
   "cell_type": "code",
   "execution_count": 211,
   "id": "70431941",
   "metadata": {},
   "outputs": [
    {
     "data": {
      "image/png": "[encoded data removed]",
      "text/plain": [
       "<Figure size 1440x1440 with 1 Axes>"
      ]
     },
     "metadata": {
      "needs_background": "light"
     },
     "output_type": "display_data"
    }
   ],
   "source": [
    "df.age.value_counts().plot(kind=\"barh\",figsize=(20,20),fontsize =15);\n",
    "plt.xlabel(\"Age\",fontsize =25);"
   ]
  },
  {
   "cell_type": "markdown",
   "id": "7c6c0cd9",
   "metadata": {},
   "source": [
    "The most common age interval is between 20s and 35s"
   ]
  },
  {
   "cell_type": "code",
   "execution_count": 37,
   "id": "7f7a4edc",
   "metadata": {},
   "outputs": [
    {
     "name": "stderr",
     "output_type": "stream",
     "text": [
      "C:\\Users\\SERA\\anaconda3\\lib\\site-packages\\seaborn\\_decorators.py:36: FutureWarning: Pass the following variable as a keyword arg: x. From version 0.12, the only valid positional argument will be `data`, and passing other arguments without an explicit keyword will result in an error or misinterpretation.\n",
      "  warnings.warn(\n"
     ]
    },
    {
     "data": {
      "image/png": "[encoded data removed]",
      "text/plain": [
       "<Figure size 432x288 with 1 Axes>"
      ]
     },
     "metadata": {
      "needs_background": "light"
     },
     "output_type": "display_data"
    }
   ],
   "source": [
    "sns.countplot(df.sex);"
   ]
  },
  {
   "cell_type": "markdown",
   "id": "537bbd82",
   "metadata": {},
   "source": [
    "Most passengers are males "
   ]
  },
  {
   "cell_type": "code",
   "execution_count": 38,
   "id": "8ea4f14d",
   "metadata": {},
   "outputs": [
    {
     "data": {
      "text/plain": [
       "<seaborn.axisgrid.FacetGrid at 0x13d4c1b8ca0>"
      ]
     },
     "execution_count": 38,
     "metadata": {},
     "output_type": "execute_result"
    },
    {
     "data": {
      "image/png": "[encoded data removed]",
      "text/plain": [
       "<Figure size 432x216 with 2 Axes>"
      ]
     },
     "metadata": {
      "needs_background": "light"
     },
     "output_type": "display_data"
    }
   ],
   "source": [
    "age_hist = sns.FacetGrid(df,col=\"survived\")\n",
    "age_hist.map(plt.hist,\"age\")"
   ]
  },
  {
   "cell_type": "markdown",
   "id": "50db0c08",
   "metadata": {},
   "source": [
    "Among those who didn't survive, most people were of the age 20-30 years whereas among those who survived, the number of infants are much higher than teenagers.\n",
    "\n"
   ]
  },
  {
   "cell_type": "markdown",
   "id": "cc7769c3",
   "metadata": {},
   "source": [
    "# Number of people who survived over age and passenger class\n"
   ]
  },
  {
   "cell_type": "code",
   "execution_count": 39,
   "id": "649a00c4",
   "metadata": {},
   "outputs": [
    {
     "data": {
      "image/png": "[encoded data removed]",
      "text/plain": [
       "<Figure size 432x648 with 6 Axes>"
      ]
     },
     "metadata": {
      "needs_background": "light"
     },
     "output_type": "display_data"
    }
   ],
   "source": [
    "pclass_hist = sns.FacetGrid(df,col=\"survived\",row=\"pclass\")\n",
    "pclass_hist.map(plt.hist,\"age\");\n",
    "pclass_hist.set_ylabels(\"Number\");"
   ]
  },
  {
   "cell_type": "markdown",
   "id": "c5998286",
   "metadata": {},
   "source": [
    "Most people were of the age 20 - 40 who did not survive were on class 3\n",
    "\n",
    "Also, most people who survived were on class 1"
   ]
  },
  {
   "cell_type": "markdown",
   "id": "965d417f",
   "metadata": {},
   "source": [
    "# Handling null values "
   ]
  },
  {
   "cell_type": "markdown",
   "id": "6c193a4f",
   "metadata": {},
   "source": [
    "Since there are only 2 rows whose Embarked data is not known, \n",
    "therefore I can neglect those 2 rows as they will not make much of a difference.\n",
    "\n",
    "But since I will use Ordinal Encoder which can not work with null values I will replca them with the mode "
   ]
  },
  {
   "cell_type": "code",
   "execution_count": 40,
   "id": "790d7057",
   "metadata": {},
   "outputs": [
    {
     "data": {
      "text/plain": [
       "S    914\n",
       "C    270\n",
       "Q    123\n",
       "Name: embarked, dtype: int64"
      ]
     },
     "execution_count": 40,
     "metadata": {},
     "output_type": "execute_result"
    }
   ],
   "source": [
    "df.embarked.value_counts()"
   ]
  },
  {
   "cell_type": "code",
   "execution_count": 41,
   "id": "b4a3a275",
   "metadata": {},
   "outputs": [
    {
     "data": {
      "text/plain": [
       "pclass        0\n",
       "survived      0\n",
       "sex           0\n",
       "age         277\n",
       "sibsp         0\n",
       "parch         0\n",
       "embarked      0\n",
       "dtype: int64"
      ]
     },
     "execution_count": 41,
     "metadata": {},
     "output_type": "execute_result"
    }
   ],
   "source": [
    "df.embarked.fillna(\"s\",inplace=True)\n",
    "df.isnull().sum()"
   ]
  },
  {
   "cell_type": "markdown",
   "id": "60cb5462",
   "metadata": {},
   "source": [
    "One the other hand, null values on age column can not be dropped or neglected\n",
    "The will be replaced with the mean values"
   ]
  },
  {
   "cell_type": "code",
   "execution_count": 42,
   "id": "2093b3bf",
   "metadata": {
    "scrolled": true
   },
   "outputs": [
    {
     "data": {
      "text/plain": [
       "pclass      0\n",
       "survived    0\n",
       "sex         0\n",
       "age         0\n",
       "sibsp       0\n",
       "parch       0\n",
       "embarked    0\n",
       "dtype: int64"
      ]
     },
     "execution_count": 42,
     "metadata": {},
     "output_type": "execute_result"
    }
   ],
   "source": [
    "mean_age = int(df.age.mean())\n",
    "df.age.fillna(mean_age,inplace=True)\n",
    "df.isnull().sum()"
   ]
  },
  {
   "cell_type": "markdown",
   "id": "a3e8a0c0",
   "metadata": {},
   "source": [
    "# Apply Encoding on categorical columns"
   ]
  },
  {
   "cell_type": "code",
   "execution_count": 43,
   "id": "eb229355",
   "metadata": {},
   "outputs": [
    {
     "data": {
      "text/plain": [
       "['sex', 'embarked']"
      ]
     },
     "execution_count": 43,
     "metadata": {},
     "output_type": "execute_result"
    }
   ],
   "source": [
    "categorical_columns_selector = selector(dtype_include=\"object\")\n",
    "categorical_columns =categorical_columns_selector(df)\n",
    "categorical_columns"
   ]
  },
  {
   "cell_type": "code",
   "execution_count": 44,
   "id": "53c9d2c0",
   "metadata": {},
   "outputs": [],
   "source": [
    "categorical_processor = OrdinalEncoder(handle_unknown =\"use_encoded_value\", unknown_value=np.nan)\n",
    "for col in categorical_columns:\n",
    "    df[col] = categorical_processor.fit_transform(np.array(df[col]).reshape(-1,1))"
   ]
  },
  {
   "cell_type": "code",
   "execution_count": 45,
   "id": "9ef0e6a1",
   "metadata": {},
   "outputs": [
    {
     "data": {
      "text/html": [
       "<div>\n",
       "<style scoped>\n",
       "    .dataframe tbody tr th:only-of-type {\n",
       "        vertical-align: middle;\n",
       "    }\n",
       "\n",
       "    .dataframe tbody tr th {\n",
       "        vertical-align: top;\n",
       "    }\n",
       "\n",
       "    .dataframe thead th {\n",
       "        text-align: right;\n",
       "    }\n",
       "</style>\n",
       "<table border=\"1\" class=\"dataframe\">\n",
       "  <thead>\n",
       "    <tr style=\"text-align: right;\">\n",
       "      <th></th>\n",
       "      <th>pclass</th>\n",
       "      <th>survived</th>\n",
       "      <th>sex</th>\n",
       "      <th>age</th>\n",
       "      <th>sibsp</th>\n",
       "      <th>parch</th>\n",
       "      <th>embarked</th>\n",
       "    </tr>\n",
       "  </thead>\n",
       "  <tbody>\n",
       "    <tr>\n",
       "      <th>0</th>\n",
       "      <td>1</td>\n",
       "      <td>1</td>\n",
       "      <td>0.0</td>\n",
       "      <td>29.0</td>\n",
       "      <td>0</td>\n",
       "      <td>0</td>\n",
       "      <td>2.0</td>\n",
       "    </tr>\n",
       "    <tr>\n",
       "      <th>1</th>\n",
       "      <td>1</td>\n",
       "      <td>1</td>\n",
       "      <td>1.0</td>\n",
       "      <td>30.0</td>\n",
       "      <td>1</td>\n",
       "      <td>2</td>\n",
       "      <td>2.0</td>\n",
       "    </tr>\n",
       "    <tr>\n",
       "      <th>2</th>\n",
       "      <td>1</td>\n",
       "      <td>0</td>\n",
       "      <td>0.0</td>\n",
       "      <td>2.0</td>\n",
       "      <td>1</td>\n",
       "      <td>2</td>\n",
       "      <td>2.0</td>\n",
       "    </tr>\n",
       "    <tr>\n",
       "      <th>3</th>\n",
       "      <td>1</td>\n",
       "      <td>0</td>\n",
       "      <td>1.0</td>\n",
       "      <td>30.0</td>\n",
       "      <td>1</td>\n",
       "      <td>2</td>\n",
       "      <td>2.0</td>\n",
       "    </tr>\n",
       "    <tr>\n",
       "      <th>4</th>\n",
       "      <td>1</td>\n",
       "      <td>0</td>\n",
       "      <td>0.0</td>\n",
       "      <td>25.0</td>\n",
       "      <td>1</td>\n",
       "      <td>2</td>\n",
       "      <td>2.0</td>\n",
       "    </tr>\n",
       "  </tbody>\n",
       "</table>\n",
       "</div>"
      ],
      "text/plain": [
       "   pclass  survived  sex   age  sibsp  parch  embarked\n",
       "0       1         1  0.0  29.0      0      0       2.0\n",
       "1       1         1  1.0  30.0      1      2       2.0\n",
       "2       1         0  0.0   2.0      1      2       2.0\n",
       "3       1         0  1.0  30.0      1      2       2.0\n",
       "4       1         0  0.0  25.0      1      2       2.0"
      ]
     },
     "execution_count": 45,
     "metadata": {},
     "output_type": "execute_result"
    }
   ],
   "source": [
    "df.head()"
   ]
  },
  {
   "cell_type": "markdown",
   "id": "e78ede90",
   "metadata": {},
   "source": [
    "The age groups need to be converted into different sub-groups so that better prediction model can be formed"
   ]
  },
  {
   "cell_type": "code",
   "execution_count": 46,
   "id": "283dee40",
   "metadata": {},
   "outputs": [
    {
     "data": {
      "text/html": [
       "<div>\n",
       "<style scoped>\n",
       "    .dataframe tbody tr th:only-of-type {\n",
       "        vertical-align: middle;\n",
       "    }\n",
       "\n",
       "    .dataframe tbody tr th {\n",
       "        vertical-align: top;\n",
       "    }\n",
       "\n",
       "    .dataframe thead th {\n",
       "        text-align: right;\n",
       "    }\n",
       "</style>\n",
       "<table border=\"1\" class=\"dataframe\">\n",
       "  <thead>\n",
       "    <tr style=\"text-align: right;\">\n",
       "      <th></th>\n",
       "      <th>pclass</th>\n",
       "      <th>survived</th>\n",
       "      <th>sex</th>\n",
       "      <th>age</th>\n",
       "      <th>sibsp</th>\n",
       "      <th>parch</th>\n",
       "      <th>embarked</th>\n",
       "    </tr>\n",
       "  </thead>\n",
       "  <tbody>\n",
       "    <tr>\n",
       "      <th>0</th>\n",
       "      <td>1</td>\n",
       "      <td>1</td>\n",
       "      <td>0.0</td>\n",
       "      <td>2.0</td>\n",
       "      <td>0</td>\n",
       "      <td>0</td>\n",
       "      <td>2.0</td>\n",
       "    </tr>\n",
       "    <tr>\n",
       "      <th>1</th>\n",
       "      <td>1</td>\n",
       "      <td>1</td>\n",
       "      <td>1.0</td>\n",
       "      <td>2.0</td>\n",
       "      <td>1</td>\n",
       "      <td>2</td>\n",
       "      <td>2.0</td>\n",
       "    </tr>\n",
       "    <tr>\n",
       "      <th>2</th>\n",
       "      <td>1</td>\n",
       "      <td>0</td>\n",
       "      <td>0.0</td>\n",
       "      <td>0.0</td>\n",
       "      <td>1</td>\n",
       "      <td>2</td>\n",
       "      <td>2.0</td>\n",
       "    </tr>\n",
       "    <tr>\n",
       "      <th>3</th>\n",
       "      <td>1</td>\n",
       "      <td>0</td>\n",
       "      <td>1.0</td>\n",
       "      <td>2.0</td>\n",
       "      <td>1</td>\n",
       "      <td>2</td>\n",
       "      <td>2.0</td>\n",
       "    </tr>\n",
       "    <tr>\n",
       "      <th>4</th>\n",
       "      <td>1</td>\n",
       "      <td>0</td>\n",
       "      <td>0.0</td>\n",
       "      <td>1.0</td>\n",
       "      <td>1</td>\n",
       "      <td>2</td>\n",
       "      <td>2.0</td>\n",
       "    </tr>\n",
       "  </tbody>\n",
       "</table>\n",
       "</div>"
      ],
      "text/plain": [
       "   pclass  survived  sex  age  sibsp  parch  embarked\n",
       "0       1         1  0.0  2.0      0      0       2.0\n",
       "1       1         1  1.0  2.0      1      2       2.0\n",
       "2       1         0  0.0  0.0      1      2       2.0\n",
       "3       1         0  1.0  2.0      1      2       2.0\n",
       "4       1         0  0.0  1.0      1      2       2.0"
      ]
     },
     "execution_count": 46,
     "metadata": {},
     "output_type": "execute_result"
    }
   ],
   "source": [
    "enc = KBinsDiscretizer(n_bins=6, encode='ordinal', strategy='uniform')\n",
    "df[\"age\"] = enc.fit_transform(np.array(df[\"age\"]).reshape(-1,1))\n",
    "df.head()"
   ]
  },
  {
   "cell_type": "code",
   "execution_count": 47,
   "id": "6566a61c",
   "metadata": {},
   "outputs": [
    {
     "data": {
      "image/png": "[encoded data removed]",
      "text/plain": [
       "<Figure size 432x288 with 2 Axes>"
      ]
     },
     "metadata": {
      "needs_background": "light"
     },
     "output_type": "display_data"
    }
   ],
   "source": [
    "sns.heatmap(df.corr(),annot=True);"
   ]
  },
  {
   "cell_type": "markdown",
   "id": "3b9b3b22",
   "metadata": {},
   "source": [
    "From this heatmap, we can see that there is a negative linear relationship between survived and sex & survived and pclass bu it is more stronger between sex  and survived "
   ]
  },
  {
   "cell_type": "markdown",
   "id": "a181e83b",
   "metadata": {},
   "source": [
    "# Building Models for Prediction"
   ]
  },
  {
   "cell_type": "code",
   "execution_count": 179,
   "id": "b559b2d0",
   "metadata": {},
   "outputs": [],
   "source": [
    "#import models packages \n",
    "from sklearn.naive_bayes import GaussianNB\n",
    "from sklearn.linear_model import LogisticRegression\n",
    "from sklearn.svm import SVC\n",
    "from sklearn.ensemble import RandomForestClassifier\n",
    "from sklearn.neighbors import KNeighborsClassifier\n",
    "from sklearn.tree import DecisionTreeClassifier\n",
    "from sklearn.linear_model import SGDClassifier\n",
    "from sklearn.metrics import confusion_matrix, precision_score, recall_score, f1_score\n",
    "from sklearn.model_selection import cross_val_score, GridSearchCV, KFold, cross_val_predict\n",
    "from sklearn.model_selection import train_test_split"
   ]
  },
  {
   "cell_type": "code",
   "execution_count": 49,
   "id": "89a61577",
   "metadata": {},
   "outputs": [
    {
     "data": {
      "text/html": [
       "<div>\n",
       "<style scoped>\n",
       "    .dataframe tbody tr th:only-of-type {\n",
       "        vertical-align: middle;\n",
       "    }\n",
       "\n",
       "    .dataframe tbody tr th {\n",
       "        vertical-align: top;\n",
       "    }\n",
       "\n",
       "    .dataframe thead th {\n",
       "        text-align: right;\n",
       "    }\n",
       "</style>\n",
       "<table border=\"1\" class=\"dataframe\">\n",
       "  <thead>\n",
       "    <tr style=\"text-align: right;\">\n",
       "      <th></th>\n",
       "      <th>pclass</th>\n",
       "      <th>sex</th>\n",
       "      <th>age</th>\n",
       "      <th>sibsp</th>\n",
       "      <th>parch</th>\n",
       "      <th>embarked</th>\n",
       "    </tr>\n",
       "  </thead>\n",
       "  <tbody>\n",
       "    <tr>\n",
       "      <th>0</th>\n",
       "      <td>1</td>\n",
       "      <td>0.0</td>\n",
       "      <td>2.0</td>\n",
       "      <td>0</td>\n",
       "      <td>0</td>\n",
       "      <td>2.0</td>\n",
       "    </tr>\n",
       "    <tr>\n",
       "      <th>1</th>\n",
       "      <td>1</td>\n",
       "      <td>1.0</td>\n",
       "      <td>2.0</td>\n",
       "      <td>1</td>\n",
       "      <td>2</td>\n",
       "      <td>2.0</td>\n",
       "    </tr>\n",
       "    <tr>\n",
       "      <th>2</th>\n",
       "      <td>1</td>\n",
       "      <td>0.0</td>\n",
       "      <td>0.0</td>\n",
       "      <td>1</td>\n",
       "      <td>2</td>\n",
       "      <td>2.0</td>\n",
       "    </tr>\n",
       "    <tr>\n",
       "      <th>3</th>\n",
       "      <td>1</td>\n",
       "      <td>1.0</td>\n",
       "      <td>2.0</td>\n",
       "      <td>1</td>\n",
       "      <td>2</td>\n",
       "      <td>2.0</td>\n",
       "    </tr>\n",
       "    <tr>\n",
       "      <th>4</th>\n",
       "      <td>1</td>\n",
       "      <td>0.0</td>\n",
       "      <td>1.0</td>\n",
       "      <td>1</td>\n",
       "      <td>2</td>\n",
       "      <td>2.0</td>\n",
       "    </tr>\n",
       "  </tbody>\n",
       "</table>\n",
       "</div>"
      ],
      "text/plain": [
       "   pclass  sex  age  sibsp  parch  embarked\n",
       "0       1  0.0  2.0      0      0       2.0\n",
       "1       1  1.0  2.0      1      2       2.0\n",
       "2       1  0.0  0.0      1      2       2.0\n",
       "3       1  1.0  2.0      1      2       2.0\n",
       "4       1  0.0  1.0      1      2       2.0"
      ]
     },
     "execution_count": 49,
     "metadata": {},
     "output_type": "execute_result"
    }
   ],
   "source": [
    "target = df.survived\n",
    "df.drop([\"survived\"],axis =1 ,inplace =True)\n",
    "data = df\n",
    "data.head()"
   ]
  },
  {
   "cell_type": "markdown",
   "id": "5244bab6",
   "metadata": {},
   "source": [
    "First, I will try all algoritms without any hyper parameter tunning and evaluate them with F1 score and mean sqaure error, the algorithm with the best score will be ynned later.\n",
    "\n",
    "First, try very basic model which is naive bayes."
   ]
  },
  {
   "cell_type": "code",
   "execution_count": 104,
   "id": "5a047140",
   "metadata": {},
   "outputs": [
    {
     "name": "stdout",
     "output_type": "stream",
     "text": [
      "mean accuracy score is :  77.92 \n",
      "\n",
      "confusion matrix: \n",
      " [[664 145]\n",
      " [144 356]] \n",
      "\n",
      "precision_score:  0.71 \n",
      "\n",
      "Recall score:  0.71 \n",
      "\n",
      "F1 score:  0.71 \n",
      "\n"
     ]
    }
   ],
   "source": [
    "cv = KFold(n_splits = 10 , shuffle =True , random_state = 123)\n",
    "naive_bayes_model =  GaussianNB()\n",
    "scores = cross_val_score(naive_bayes_model,data,target,cv=cv)\n",
    "mean_acc_naive_bayes = scores.mean() *100\n",
    "target_pred= cross_val_predict(naive_bayes_model, data, target, cv=cv)\n",
    "f1_score_naive_bayes = f1_score(target,target_pred)\n",
    "print(f\"mean accuracy score is : {mean_acc_naive_bayes : .2f} \\n\")\n",
    "print(f\"confusion matrix: \\n {confusion_matrix(target,target_pred)} \\n\")\n",
    "print(f\"precision_score:  {precision_score(target,target_pred):.2f} \\n\")\n",
    "print(f\"Recall score:  {recall_score(target,target_pred):.2f} \\n\")\n",
    "print(f\"F1 score:  {f1_score(target,target_pred):.2f} \\n\")"
   ]
  },
  {
   "cell_type": "code",
   "execution_count": 105,
   "id": "40356942",
   "metadata": {},
   "outputs": [
    {
     "name": "stdout",
     "output_type": "stream",
     "text": [
      "mean accuracy score is :  78.76 \n",
      "\n",
      "confusion matrix: \n",
      " [[687 122]\n",
      " [156 344]] \n",
      "\n",
      "precision_score:  0.74 \n",
      "\n",
      "Recall score:  0.69 \n",
      "\n",
      "F1 score:  0.71 \n",
      "\n"
     ]
    }
   ],
   "source": [
    "log_model = LogisticRegression()\n",
    "scores = cross_val_score(log_model,data,target,cv=cv)\n",
    "mean_acc_LogisticRegression = scores.mean() *100\n",
    "target_pred= cross_val_predict(log_model, data, target, cv=cv)\n",
    "f1_score_LogisticRegression = f1_score(target,target_pred)\n",
    "print(f\"mean accuracy score is : {mean_acc_LogisticRegression : .2f} \\n\")\n",
    "print(f\"confusion matrix: \\n {confusion_matrix(target,target_pred)} \\n\")\n",
    "print(f\"precision_score:  {precision_score(target,target_pred):.2f} \\n\")\n",
    "print(f\"Recall score:  {recall_score(target,target_pred):.2f} \\n\")\n",
    "print(f\"F1 score:  {f1_score(target,target_pred):.2f} \\n\")"
   ]
  },
  {
   "cell_type": "code",
   "execution_count": 106,
   "id": "d413452c",
   "metadata": {},
   "outputs": [
    {
     "name": "stdout",
     "output_type": "stream",
     "text": [
      "mean accuracy score is :  80.67 \n",
      "\n",
      "confusion matrix: \n",
      " [[708 101]\n",
      " [152 348]] \n",
      "\n",
      "precision_score:  0.78 \n",
      "\n",
      "Recall score:  0.70 \n",
      "\n",
      "F1 score:  0.73 \n",
      "\n"
     ]
    }
   ],
   "source": [
    "SVM_model = SVC()\n",
    "scores = cross_val_score(SVM_model,data,target,cv=cv)\n",
    "mean_acc_SVM = scores.mean() *100\n",
    "target_pred= cross_val_predict(SVM_model, data, target, cv=cv)\n",
    "f1_score_SVM = f1_score(target,target_pred)\n",
    "print(f\"mean accuracy score is : {mean_acc_SVM : .2f} \\n\")\n",
    "print(f\"confusion matrix: \\n {confusion_matrix(target,target_pred)} \\n\")\n",
    "print(f\"precision_score:  {precision_score(target,target_pred):.2f} \\n\")\n",
    "print(f\"Recall score:  {recall_score(target,target_pred):.2f} \\n\")\n",
    "print(f\"F1 score:  {f1_score(target,target_pred):.2f} \\n\")"
   ]
  },
  {
   "cell_type": "code",
   "execution_count": 107,
   "id": "1f838581",
   "metadata": {},
   "outputs": [
    {
     "name": "stdout",
     "output_type": "stream",
     "text": [
      "mean accuracy score is :  77.31 \n",
      "\n",
      "confusion matrix: \n",
      " [[700 109]\n",
      " [188 312]] \n",
      "\n",
      "precision_score:  0.74 \n",
      "\n",
      "Recall score:  0.62 \n",
      "\n",
      "F1 score:  0.68 \n",
      "\n"
     ]
    }
   ],
   "source": [
    "KNN_model = KNeighborsClassifier()\n",
    "scores = cross_val_score(KNN_model,data,target,cv=cv)\n",
    "mean_acc_KNN = scores.mean() *100\n",
    "target_pred= cross_val_predict(KNN_model, data, target, cv=cv)\n",
    "f1_score_KNN = f1_score(target,target_pred)\n",
    "print(f\"mean accuracy score is : {mean_acc_KNN : .2f} \\n\")\n",
    "print(f\"confusion matrix: \\n {confusion_matrix(target,target_pred)} \\n\")\n",
    "print(f\"precision_score:  {precision_score(target,target_pred):.2f} \\n\")\n",
    "print(f\"Recall score:  {recall_score(target,target_pred):.2f} \\n\")\n",
    "print(f\"F1 score:  {f1_score(target,target_pred):.2f} \\n\")"
   ]
  },
  {
   "cell_type": "code",
   "execution_count": 108,
   "id": "2508afcc",
   "metadata": {},
   "outputs": [
    {
     "name": "stdout",
     "output_type": "stream",
     "text": [
      "mean accuracy score is :  77.92 \n",
      "\n",
      "confusion matrix: \n",
      " [[714  95]\n",
      " [193 307]] \n",
      "\n",
      "precision_score:  0.76 \n",
      "\n",
      "Recall score:  0.61 \n",
      "\n",
      "F1 score:  0.68 \n",
      "\n"
     ]
    }
   ],
   "source": [
    "tree_model = DecisionTreeClassifier()\n",
    "scores = cross_val_score(tree_model,data,target,cv=cv)\n",
    "mean_acc_tree = scores.mean() *100\n",
    "target_pred= cross_val_predict(tree_model, data, target, cv=cv)\n",
    "f1_score_tree= f1_score(target,target_pred)\n",
    "print(f\"mean accuracy score is : {mean_acc_tree : .2f} \\n\")\n",
    "print(f\"confusion matrix: \\n {confusion_matrix(target,target_pred)} \\n\")\n",
    "print(f\"precision_score:  {precision_score(target,target_pred):.2f} \\n\")\n",
    "print(f\"Recall score:  {recall_score(target,target_pred):.2f} \\n\")\n",
    "print(f\"F1 score:  {f1_score(target,target_pred):.2f} \\n\")"
   ]
  },
  {
   "cell_type": "code",
   "execution_count": 109,
   "id": "9369f580",
   "metadata": {},
   "outputs": [
    {
     "name": "stdout",
     "output_type": "stream",
     "text": [
      "mean accuracy score is :  78.38 \n",
      "\n",
      "confusion matrix: \n",
      " [[705 104]\n",
      " [171 329]] \n",
      "\n",
      "precision_score:  0.76 \n",
      "\n",
      "Recall score:  0.66 \n",
      "\n",
      "F1 score:  0.71 \n",
      "\n"
     ]
    }
   ],
   "source": [
    "forest_model = RandomForestClassifier(n_estimators=100)\n",
    "scores = cross_val_score(forest_model,data,target,cv=cv)\n",
    "mean_acc_forest = scores.mean() *100\n",
    "target_pred= cross_val_predict(forest_model, data, target, cv=cv)\n",
    "f1_score_RandomForestClassifier = f1_score(target,target_pred)\n",
    "print(f\"mean accuracy score is : {mean_acc_forest : .2f} \\n\")\n",
    "print(f\"confusion matrix: \\n {confusion_matrix(target,target_pred)} \\n\")\n",
    "print(f\"precision_score:  {precision_score(target,target_pred):.2f} \\n\")\n",
    "print(f\"Recall score:  {recall_score(target,target_pred):.2f} \\n\")\n",
    "print(f\"F1 score:  {f1_score(target,target_pred):.2f} \\n\")"
   ]
  },
  {
   "cell_type": "code",
   "execution_count": 110,
   "id": "0872059b",
   "metadata": {},
   "outputs": [
    {
     "name": "stdout",
     "output_type": "stream",
     "text": [
      "mean accuracy score is :  72.96 \n",
      "\n",
      "confusion matrix: \n",
      " [[627 182]\n",
      " [209 291]] \n",
      "\n",
      "precision_score:  0.62 \n",
      "\n",
      "Recall score:  0.58 \n",
      "\n",
      "F1 score:  0.60 \n",
      "\n"
     ]
    }
   ],
   "source": [
    "SGDC_model =  SGDClassifier(max_iter=5, tol=None)\n",
    "scores = cross_val_score(SGDC_model,data,target,cv=cv)\n",
    "mean_acc_SGDC = scores.mean() *100\n",
    "target_pred= cross_val_predict(SGDC_model, data, target, cv=cv)\n",
    "f1_score_SGDC = f1_score(target,target_pred)\n",
    "print(f\"mean accuracy score is : {mean_acc_SGDC : .2f} \\n\")\n",
    "print(f\"confusion matrix: \\n {confusion_matrix(target,target_pred)} \\n\")\n",
    "print(f\"precision_score:  {precision_score(target,target_pred):.2f} \\n\")\n",
    "print(f\"Recall score:  {recall_score(target,target_pred):.2f} \\n\")\n",
    "print(f\"F1 score:  {f1_score(target,target_pred):.2f} \\n\")"
   ]
  },
  {
   "cell_type": "markdown",
   "id": "4dd093ac",
   "metadata": {},
   "source": [
    "# Finding the Best Model\n"
   ]
  },
  {
   "cell_type": "code",
   "execution_count": 119,
   "id": "caeafb0b",
   "metadata": {},
   "outputs": [
    {
     "data": {
      "text/html": [
       "<div>\n",
       "<style scoped>\n",
       "    .dataframe tbody tr th:only-of-type {\n",
       "        vertical-align: middle;\n",
       "    }\n",
       "\n",
       "    .dataframe tbody tr th {\n",
       "        vertical-align: top;\n",
       "    }\n",
       "\n",
       "    .dataframe thead th {\n",
       "        text-align: right;\n",
       "    }\n",
       "</style>\n",
       "<table border=\"1\" class=\"dataframe\">\n",
       "  <thead>\n",
       "    <tr style=\"text-align: right;\">\n",
       "      <th></th>\n",
       "      <th>model</th>\n",
       "      <th>mean score</th>\n",
       "      <th>F1 score</th>\n",
       "    </tr>\n",
       "  </thead>\n",
       "  <tbody>\n",
       "    <tr>\n",
       "      <th>0</th>\n",
       "      <td>Gaussian Naive Bayes</td>\n",
       "      <td>77.920141</td>\n",
       "      <td>0.711289</td>\n",
       "    </tr>\n",
       "    <tr>\n",
       "      <th>1</th>\n",
       "      <td>Logistic Regression</td>\n",
       "      <td>78.762772</td>\n",
       "      <td>0.712215</td>\n",
       "    </tr>\n",
       "    <tr>\n",
       "      <th>2</th>\n",
       "      <td>Support Vector Machines</td>\n",
       "      <td>80.671756</td>\n",
       "      <td>0.733404</td>\n",
       "    </tr>\n",
       "    <tr>\n",
       "      <th>3</th>\n",
       "      <td>KNN</td>\n",
       "      <td>77.311216</td>\n",
       "      <td>0.677524</td>\n",
       "    </tr>\n",
       "    <tr>\n",
       "      <th>4</th>\n",
       "      <td>Decision Tree</td>\n",
       "      <td>77.920728</td>\n",
       "      <td>0.680710</td>\n",
       "    </tr>\n",
       "    <tr>\n",
       "      <th>5</th>\n",
       "      <td>Random Forest</td>\n",
       "      <td>78.379331</td>\n",
       "      <td>0.705252</td>\n",
       "    </tr>\n",
       "    <tr>\n",
       "      <th>6</th>\n",
       "      <td>Stochastic Gradient Decent</td>\n",
       "      <td>72.961245</td>\n",
       "      <td>0.598150</td>\n",
       "    </tr>\n",
       "  </tbody>\n",
       "</table>\n",
       "</div>"
      ],
      "text/plain": [
       "                        model  mean score  F1 score\n",
       "0        Gaussian Naive Bayes   77.920141  0.711289\n",
       "1         Logistic Regression   78.762772  0.712215\n",
       "2     Support Vector Machines   80.671756  0.733404\n",
       "3                         KNN   77.311216  0.677524\n",
       "4               Decision Tree   77.920728  0.680710\n",
       "5               Random Forest   78.379331  0.705252\n",
       "6  Stochastic Gradient Decent   72.961245  0.598150"
      ]
     },
     "execution_count": 119,
     "metadata": {},
     "output_type": "execute_result"
    }
   ],
   "source": [
    "df1 = {\n",
    "    \"model\" : ['Gaussian Naive Bayes','Logistic Regression','Support Vector Machines',\n",
    "              'KNN','Decision Tree','Random Forest',\n",
    "              'Stochastic Gradient Decent'],\n",
    "    \"mean score\" : [mean_acc_naive_bayes,mean_acc_LogisticRegression,mean_acc_SVM,\n",
    "                   mean_acc_KNN,mean_acc_tree,mean_acc_forest,\n",
    "                   mean_acc_SGDC],\n",
    "    \"F1 score\" : [f1_score_naive_bayes,f1_score_LogisticRegression,f1_score_SVM,\n",
    "                 f1_score_KNN,f1_score_tree,f1_score_RandomForestClassifier,f1_score_SGDC]\n",
    "}\n",
    "results = pd.DataFrame(df1)\n",
    "results.head(7)"
   ]
  },
  {
   "cell_type": "code",
   "execution_count": 151,
   "id": "bc7c389b",
   "metadata": {},
   "outputs": [
    {
     "data": {
      "text/plain": [
       "Text(0.5, 0, 'Mean Score')"
      ]
     },
     "execution_count": 151,
     "metadata": {},
     "output_type": "execute_result"
    },
    {
     "data": {
      "image/png": "[encoded data removed]",
      "text/plain": [
       "<Figure size 360x360 with 1 Axes>"
      ]
     },
     "metadata": {
      "needs_background": "light"
     },
     "output_type": "display_data"
    }
   ],
   "source": [
    "plt.figure(figsize=(5,5))\n",
    "plt.barh(results.model,results[\"mean score\"]);\n",
    "plt.xlabel(\"Mean Score\")"
   ]
  },
  {
   "cell_type": "markdown",
   "id": "ec77983d",
   "metadata": {},
   "source": [
    "Support Vector Machine has the best mean score (over 80%)without an tunning, but let us see f1 score to decide which is the best algorithm"
   ]
  },
  {
   "cell_type": "code",
   "execution_count": 154,
   "id": "b3c6e512",
   "metadata": {},
   "outputs": [
    {
     "data": {
      "text/plain": [
       "Text(0.5, 0, 'F1 Score')"
      ]
     },
     "execution_count": 154,
     "metadata": {},
     "output_type": "execute_result"
    },
    {
     "data": {
      "image/png": "[encoded data removed]",
      "text/plain": [
       "<Figure size 360x360 with 1 Axes>"
      ]
     },
     "metadata": {
      "needs_background": "light"
     },
     "output_type": "display_data"
    }
   ],
   "source": [
    "plt.figure(figsize=(5,5))\n",
    "plt.barh(results.model,results[\"F1 score\"],color = \"red\",alpha = .6);\n",
    "plt.xlabel(\"F1 Score\")"
   ]
  },
  {
   "cell_type": "markdown",
   "id": "478be2cf",
   "metadata": {},
   "source": [
    "Also, Support Vector Machine has the highest F1 score.\n",
    "\n",
    "so, Support Vector Machine is the algorithm who i will tune its parameters"
   ]
  },
  {
   "cell_type": "code",
   "execution_count": 187,
   "id": "c9fd5914",
   "metadata": {},
   "outputs": [
    {
     "data": {
      "text/plain": [
       "{'C': 1.0,\n",
       " 'break_ties': False,\n",
       " 'cache_size': 200,\n",
       " 'class_weight': None,\n",
       " 'coef0': 0.0,\n",
       " 'decision_function_shape': 'ovr',\n",
       " 'degree': 3,\n",
       " 'gamma': 'scale',\n",
       " 'kernel': 'rbf',\n",
       " 'max_iter': -1,\n",
       " 'probability': False,\n",
       " 'random_state': None,\n",
       " 'shrinking': True,\n",
       " 'tol': 0.001,\n",
       " 'verbose': False}"
      ]
     },
     "execution_count": 187,
     "metadata": {},
     "output_type": "execute_result"
    }
   ],
   "source": [
    "# view SVM parameters \n",
    "SVM_model.get_params()"
   ]
  },
  {
   "cell_type": "markdown",
   "id": "1d59d36a",
   "metadata": {},
   "source": [
    "First, before tunning the model, i need to split the data to train set and test set so I can evalute the best combination of hyperparameters on it "
   ]
  },
  {
   "cell_type": "code",
   "execution_count": 182,
   "id": "61fd6952",
   "metadata": {},
   "outputs": [
    {
     "data": {
      "text/plain": [
       "GridSearchCV(cv=5, estimator=SVC(), n_jobs=2,\n",
       "             param_grid={'C': [0.001, 0.01, 0.1, 1.0, 10.0, 100.0],\n",
       "                         'degree': [1, 10, 15, 20, 40, 60, 80, 90, 100],\n",
       "                         'gamma': [0.001, 0.01, 0.1, 1.0, 10.0, 100.0],\n",
       "                         'kernel': ['linear', 'rbf']})"
      ]
     },
     "execution_count": 182,
     "metadata": {},
     "output_type": "execute_result"
    }
   ],
   "source": [
    "X_train, X_test, Y_train, Y_test = train_test_split(\n",
    "    data, target, random_state=42)\n",
    "param_grid = {\n",
    "    'C' :np.logspace(-3, 2, 6).tolist(),\n",
    "    'kernel':['linear', 'rbf'],\n",
    "    \"degree\" :  [1,10,15,20,40,60,80,90,100],\n",
    "    \"gamma\" : np.logspace(-3, 2, 6).tolist()}\n",
    "model_grid_search = GridSearchCV(SVM_model,param_grid=param_grid,cv=5,n_jobs=2)\n",
    "model_grid_search.fit(X_train,Y_train)"
   ]
  },
  {
   "cell_type": "code",
   "execution_count": 183,
   "id": "65a7824d",
   "metadata": {},
   "outputs": [
    {
     "data": {
      "text/plain": [
       "0.7987804878048781"
      ]
     },
     "execution_count": 183,
     "metadata": {},
     "output_type": "execute_result"
    }
   ],
   "source": [
    "model_grid_search.score(X_test,Y_test)"
   ]
  },
  {
   "cell_type": "markdown",
   "id": "1158c115",
   "metadata": {},
   "source": [
    "It is logic that the mean score after tunnig is less than before tuing, this is because the grid search model is trained on fewer number of data."
   ]
  },
  {
   "cell_type": "code",
   "execution_count": 189,
   "id": "aa70daf3",
   "metadata": {},
   "outputs": [
    {
     "data": {
      "text/plain": [
       "{'C': 1.0, 'degree': 1, 'gamma': 0.1, 'kernel': 'rbf'}"
      ]
     },
     "execution_count": 189,
     "metadata": {},
     "output_type": "execute_result"
    }
   ],
   "source": [
    "#view best parameters \n",
    "model_grid_search.best_params_"
   ]
  },
  {
   "cell_type": "markdown",
   "id": "c4e0da09",
   "metadata": {},
   "source": [
    "Now, lets see the importance of each feature "
   ]
  },
  {
   "cell_type": "code",
   "execution_count": 212,
   "id": "0fee0c71",
   "metadata": {},
   "outputs": [
    {
     "data": {
      "image/png": "[encoded data removed]",
      "text/plain": [
       "<Figure size 360x360 with 1 Axes>"
      ]
     },
     "metadata": {
      "needs_background": "light"
     },
     "output_type": "display_data"
    }
   ],
   "source": [
    "forest_model.fit(data,target)\n",
    "importances=pd.DataFrame({'Features': X_train.columns, 'Importance':np.round(forest_model.feature_importances_, 3)})\n",
    "plt.figure(figsize=(5,5))\n",
    "plt.barh(importances.Features\t,importances[\"Importance\"],color = \"green\",alpha = .6);\n",
    "plt.xlabel(\"Feature importance\");"
   ]
  },
  {
   "cell_type": "markdown",
   "id": "9ddd87f8",
   "metadata": {},
   "source": [
    "We see that sex effects more than any other feature (over 45%) followed by pclass"
   ]
  },
  {
   "cell_type": "code",
   "execution_count": null,
   "id": "d5e743e6",
   "metadata": {},
   "outputs": [],
   "source": []
  }
 ],
 "metadata": {
  "kernelspec": {
   "display_name": "Python 3 (ipykernel)",
   "language": "python",
   "name": "python3"
  },
  "language_info": {
   "codemirror_mode": {
    "name": "ipython",
    "version": 3
   },
   "file_extension": ".py",
   "mimetype": "text/x-python",
   "name": "python",
   "nbconvert_exporter": "python",
   "pygments_lexer": "ipython3",
   "version": "3.9.7"
  }
 },
 "nbformat": 4,
 "nbformat_minor": 5
}
